{
 "cells": [
  {"cell_type": "markdown", "metadata": {}, "source": ["# Customer Segmentation"]},
  {"cell_type": "code", "metadata": {}, "source": ["import pandas as pd\nfrom sklearn.cluster import KMeans"]}
 ],
 "metadata": {}, "nbformat": 4, "nbformat_minor": 2
}