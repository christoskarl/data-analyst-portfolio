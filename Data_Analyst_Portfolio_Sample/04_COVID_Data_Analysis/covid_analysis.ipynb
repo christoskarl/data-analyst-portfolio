{
 "cells": [
  {"cell_type": "markdown", "metadata": {}, "source": ["# COVID-19 Analysis"]},
  {"cell_type": "code", "metadata": {}, "source": ["import pandas as pd\nimport matplotlib.pyplot as plt"]}
 ],
 "metadata": {}, "nbformat": 4, "nbformat_minor": 2
}